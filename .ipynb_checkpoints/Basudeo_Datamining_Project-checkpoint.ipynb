{
 "cells": [
  {
   "cell_type": "code",
   "execution_count": 1,
   "id": "3b704075",
   "metadata": {},
   "outputs": [],
   "source": [
    "import pandas as pd"
   ]
  },
  {
   "cell_type": "code",
   "execution_count": 2,
   "id": "c7e6ad62",
   "metadata": {},
   "outputs": [
    {
     "name": "stdout",
     "output_type": "stream",
     "text": [
      "Daily data shape: (731, 16)\n",
      "   instant     dteday  season  yr  mnth  holiday  weekday  workingday  \\\n",
      "0        1 2011-01-01       1   0     1        0        6           0   \n",
      "1        2 2011-01-02       1   0     1        0        0           0   \n",
      "2        3 2011-01-03       1   0     1        0        1           1   \n",
      "3        4 2011-01-04       1   0     1        0        2           1   \n",
      "4        5 2011-01-05       1   0     1        0        3           1   \n",
      "\n",
      "   weathersit      temp     atemp       hum  windspeed  casual  registered  \\\n",
      "0           2  0.344167  0.363625  0.805833   0.160446     331         654   \n",
      "1           2  0.363478  0.353739  0.696087   0.248539     131         670   \n",
      "2           1  0.196364  0.189405  0.437273   0.248309     120        1229   \n",
      "3           1  0.200000  0.212122  0.590435   0.160296     108        1454   \n",
      "4           1  0.226957  0.229270  0.436957   0.186900      82        1518   \n",
      "\n",
      "    cnt  \n",
      "0   985  \n",
      "1   801  \n",
      "2  1349  \n",
      "3  1562  \n",
      "4  1600  \n",
      "Daily columns: ['instant', 'dteday', 'season', 'yr', 'mnth', 'holiday', 'weekday', 'workingday', 'weathersit', 'temp', 'atemp', 'hum', 'windspeed', 'casual', 'registered', 'cnt']\n"
     ]
    }
   ],
   "source": [
    "# daily data\n",
    "day_df = pd.read_csv('day.csv', parse_dates=['dteday'])\n",
    "print(\"Daily data shape:\", day_df.shape)\n",
    "print(day_df.head())\n",
    "\n",
    "print(\"Daily columns:\", day_df.columns.tolist())"
   ]
  },
  {
   "cell_type": "code",
   "execution_count": 3,
   "id": "c83a965a",
   "metadata": {},
   "outputs": [
    {
     "name": "stdout",
     "output_type": "stream",
     "text": [
      "Hourly data shape: (17379, 17)\n",
      "   instant     dteday  season  yr  mnth  hr  holiday  weekday  workingday  \\\n",
      "0        1 2011-01-01       1   0     1   0        0        6           0   \n",
      "1        2 2011-01-01       1   0     1   1        0        6           0   \n",
      "2        3 2011-01-01       1   0     1   2        0        6           0   \n",
      "3        4 2011-01-01       1   0     1   3        0        6           0   \n",
      "4        5 2011-01-01       1   0     1   4        0        6           0   \n",
      "\n",
      "   weathersit  temp   atemp   hum  windspeed  casual  registered  cnt  \n",
      "0           1  0.24  0.2879  0.81        0.0       3          13   16  \n",
      "1           1  0.22  0.2727  0.80        0.0       8          32   40  \n",
      "2           1  0.22  0.2727  0.80        0.0       5          27   32  \n",
      "3           1  0.24  0.2879  0.75        0.0       3          10   13  \n",
      "4           1  0.24  0.2879  0.75        0.0       0           1    1  \n",
      "Hourly columns: ['instant', 'dteday', 'season', 'yr', 'mnth', 'hr', 'holiday', 'weekday', 'workingday', 'weathersit', 'temp', 'atemp', 'hum', 'windspeed', 'casual', 'registered', 'cnt']\n"
     ]
    }
   ],
   "source": [
    "# hourly data\n",
    "hour_df = pd.read_csv('hour.csv', parse_dates=['dteday'])\n",
    "print(\"Hourly data shape:\", hour_df.shape)\n",
    "print(hour_df.head())\n",
    "\n",
    "print(\"Hourly columns:\", hour_df.columns.tolist())"
   ]
  },
  {
   "cell_type": "code",
   "execution_count": null,
   "id": "4ecab500",
   "metadata": {},
   "outputs": [],
   "source": []
  }
 ],
 "metadata": {
  "kernelspec": {
   "display_name": "Python 3 (ipykernel)",
   "language": "python",
   "name": "python3"
  },
  "language_info": {
   "codemirror_mode": {
    "name": "ipython",
    "version": 3
   },
   "file_extension": ".py",
   "mimetype": "text/x-python",
   "name": "python",
   "nbconvert_exporter": "python",
   "pygments_lexer": "ipython3",
   "version": "3.11.3"
  }
 },
 "nbformat": 4,
 "nbformat_minor": 5
}
